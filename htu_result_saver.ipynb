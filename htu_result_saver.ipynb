{
 "cells": [
  {
   "cell_type": "code",
   "execution_count": 1,
   "metadata": {},
   "outputs": [],
   "source": [
    "%reload_ext autoreload\n",
    "%autoreload 2"
   ]
  },
  {
   "cell_type": "markdown",
   "metadata": {},
   "source": [
    "# Initialize the provider + backend"
   ]
  },
  {
   "cell_type": "code",
   "execution_count": 5,
   "metadata": {},
   "outputs": [],
   "source": [
    "from result_saver import SaverProvider\n",
    "\n",
    "provider = SaverProvider() # Instead of IBMProvider()\n",
    "backend = provider.get_backend(\"ibmq_mumbai\") # like the IBMProvider\n",
    "\n",
    "# (takes a few seconds because needs to connect to the IBM cloud)"
   ]
  },
  {
   "cell_type": "markdown",
   "metadata": {},
   "source": [
    "# Generate your circuit"
   ]
  },
  {
   "cell_type": "code",
   "execution_count": 6,
   "metadata": {},
   "outputs": [],
   "source": [
    "from qiskit import QuantumCircuit, transpile\n",
    "\n",
    "qc = QuantumCircuit(2, 2)\n",
    "qc.h(0)\n",
    "qc.cx(0, 1)\n",
    "qc.measure([0, 1], [0, 1])\n",
    "\n",
    "transpiled_qc = transpile(qc, backend=backend, initial_layout=[0, 1])"
   ]
  },
  {
   "cell_type": "markdown",
   "metadata": {},
   "source": [
    "# Submit your job"
   ]
  },
  {
   "cell_type": "code",
   "execution_count": 13,
   "metadata": {},
   "outputs": [
    {
     "name": "stdout",
     "output_type": "stream",
     "text": [
      "{'job_status': 'JobStatus.RUNNING', 'num_qubits': 2, 'whatever_info': 'whatever', 'blabla': 'blabla'}\n"
     ]
    }
   ],
   "source": [
    "from result_saver import metadata_helper\n",
    "\n",
    "metadata = metadata_helper(num_qubits=2, whatever_info=\"whatever\", blabla=\"blabla\",)\n",
    "job = backend.run(metadata, transpiled_qc, shots = 1, meas_level=1, meas_return='single', job_tags=[\"test\", \"test2\"])"
   ]
  },
  {
   "cell_type": "markdown",
   "metadata": {},
   "source": [
    "# Load the metadata and retrieve the job"
   ]
  },
  {
   "cell_type": "code",
   "execution_count": 14,
   "metadata": {},
   "outputs": [
    {
     "data": {
      "text/html": [
       "<div>\n",
       "<style scoped>\n",
       "    .dataframe tbody tr th:only-of-type {\n",
       "        vertical-align: middle;\n",
       "    }\n",
       "\n",
       "    .dataframe tbody tr th {\n",
       "        vertical-align: top;\n",
       "    }\n",
       "\n",
       "    .dataframe thead th {\n",
       "        text-align: right;\n",
       "    }\n",
       "</style>\n",
       "<table border=\"1\" class=\"dataframe\">\n",
       "  <thead>\n",
       "    <tr style=\"text-align: right;\">\n",
       "      <th></th>\n",
       "      <th>creation_date</th>\n",
       "      <th>notebook_name</th>\n",
       "      <th>backend_name</th>\n",
       "      <th>job_id</th>\n",
       "      <th>tags</th>\n",
       "      <th>shots</th>\n",
       "      <th>meas_level</th>\n",
       "      <th>num_qubits</th>\n",
       "      <th>whatever_info</th>\n",
       "      <th>blabla</th>\n",
       "      <th>job_status</th>\n",
       "    </tr>\n",
       "  </thead>\n",
       "  <tbody>\n",
       "    <tr>\n",
       "      <th>1</th>\n",
       "      <td>2024-03-13 17:17:47.259000+01:00</td>\n",
       "      <td>htu_result_saver</td>\n",
       "      <td>ibmq_mumbai</td>\n",
       "      <td>cqrx3axhnkbg0081eykg</td>\n",
       "      <td>[test, test2]</td>\n",
       "      <td>1</td>\n",
       "      <td>1</td>\n",
       "      <td>2</td>\n",
       "      <td>whatever</td>\n",
       "      <td>blabla</td>\n",
       "      <td>NaN</td>\n",
       "    </tr>\n",
       "    <tr>\n",
       "      <th>0</th>\n",
       "      <td>2024-03-13 17:12:41.329000+01:00</td>\n",
       "      <td>htu_result_saver</td>\n",
       "      <td>ibmq_mumbai</td>\n",
       "      <td>cqrx0yb00evg008cydyg</td>\n",
       "      <td>[test, test2]</td>\n",
       "      <td>1</td>\n",
       "      <td>1</td>\n",
       "      <td>2</td>\n",
       "      <td>whatever</td>\n",
       "      <td>blabla</td>\n",
       "      <td>NaN</td>\n",
       "    </tr>\n",
       "  </tbody>\n",
       "</table>\n",
       "</div>"
      ],
      "text/plain": [
       "                      creation_date     notebook_name backend_name  \\\n",
       "1  2024-03-13 17:17:47.259000+01:00  htu_result_saver  ibmq_mumbai   \n",
       "0  2024-03-13 17:12:41.329000+01:00  htu_result_saver  ibmq_mumbai   \n",
       "\n",
       "                 job_id           tags  shots  meas_level  num_qubits  \\\n",
       "1  cqrx3axhnkbg0081eykg  [test, test2]      1           1           2   \n",
       "0  cqrx0yb00evg008cydyg  [test, test2]      1           1           2   \n",
       "\n",
       "  whatever_info  blabla job_status  \n",
       "1      whatever  blabla        NaN  \n",
       "0      whatever  blabla        NaN  "
      ]
     },
     "execution_count": 14,
     "metadata": {},
     "output_type": "execute_result"
    }
   ],
   "source": [
    "from result_saver import metadata_loader\n",
    "\n",
    "md = metadata_loader(_extract=True, _drop_inutile=True)\n",
    "md"
   ]
  },
  {
   "cell_type": "code",
   "execution_count": 16,
   "metadata": {},
   "outputs": [
    {
     "name": "stdout",
     "output_type": "stream",
     "text": [
      "17:19:01 Warning: Job ID cqrx0yb00evg008cydyg not found in /Users/mha/qiskit-saver-provider-public/.Scratch/jobs. Retrieving it from the IBMQ provider.... IN FILE: /Users/mha/qiskit-saver-provider-public/result_saver/provider/saver_provider.py, LINE: 77\n",
      "17:19:09 Warning: Job ID cqrx0yb00evg008cydyg is still running. Aborting.... IN FILE: /Users/mha/qiskit-saver-provider-public/result_saver/provider/saver_provider.py, LINE: 89\n"
     ]
    }
   ],
   "source": [
    "job = provider.retrieve_job(md.iloc[1][\"job_id\"])"
   ]
  }
 ],
 "metadata": {
  "kernelspec": {
   "display_name": "Soft-Info-fMUpUe5a",
   "language": "python",
   "name": "python3"
  },
  "language_info": {
   "codemirror_mode": {
    "name": "ipython",
    "version": 3
   },
   "file_extension": ".py",
   "mimetype": "text/x-python",
   "name": "python",
   "nbconvert_exporter": "python",
   "pygments_lexer": "ipython3",
   "version": "3.11.4"
  }
 },
 "nbformat": 4,
 "nbformat_minor": 2
}
